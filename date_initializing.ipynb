{
  "nbformat": 4,
  "nbformat_minor": 0,
  "metadata": {
    "colab": {
      "name": "date_initializing.ipynb",
      "provenance": [],
      "collapsed_sections": []
    },
    "kernelspec": {
      "name": "python3",
      "display_name": "Python 3"
    },
    "language_info": {
      "name": "python"
    }
  },
  "cells": [
    {
      "cell_type": "code",
      "metadata": {
        "id": "M16VhpE-2Bnj"
      },
      "source": [
        "#For date and time,This will generate the dates of last 7 days\n",
        "import datetime\n",
        "\n",
        "def date():\n",
        "  dates=[]\n",
        "  month=[]\n",
        "  day=[]\n",
        "  year=[]\n",
        "  i=1\n",
        "  today = datetime.date.today()\n",
        "  while i<=7:\n",
        "    listdates = today - datetime.timedelta(days=i)\n",
        "    dates.append(listdates)\n",
        "    month.append(listdates.month)\n",
        "    day.append(listdates.day)\n",
        "    year.append(listdates.year)\n",
        "    i= i+1\n",
        "  return dates, month, day, year"
      ],
      "execution_count": 1,
      "outputs": []
    }
  ]
}